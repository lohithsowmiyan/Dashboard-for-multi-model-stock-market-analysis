{
 "cells": [
  {
   "cell_type": "code",
   "execution_count": null,
   "id": "ed7106fb",
   "metadata": {},
   "outputs": [],
   "source": []
  },
  {
   "cell_type": "code",
   "execution_count": null,
   "id": "79b4c601",
   "metadata": {},
   "outputs": [],
   "source": []
  },
  {
   "cell_type": "code",
   "execution_count": 1,
   "id": "bab0afd2",
   "metadata": {},
   "outputs": [
    {
     "name": "stderr",
     "output_type": "stream",
     "text": [
      "[nltk_data] Downloading package vader_lexicon to\n",
      "[nltk_data]     /Users/lohithsowmiyan/nltk_data...\n",
      "[nltk_data]   Package vader_lexicon is already up-to-date!\n"
     ]
    },
    {
     "data": {
      "text/plain": [
       "True"
      ]
     },
     "execution_count": 1,
     "metadata": {},
     "output_type": "execute_result"
    }
   ],
   "source": [
    "import pandas as pd\n",
    "import matplotlib.pyplot as plt\n",
    "import datetime as dt\n",
    "import nltk\n",
    "from nltk.sentiment.vader import SentimentIntensityAnalyzer\n",
    "from GoogleNews import GoogleNews\n",
    "from newspaper import Article\n",
    "from newspaper import Config\n",
    "from wordcloud import WordCloud, STOPWORDS\n",
    "\n",
    "nltk.download('vader_lexicon')\n"
   ]
  },
  {
   "cell_type": "code",
   "execution_count": 2,
   "id": "9eb7caa4",
   "metadata": {},
   "outputs": [
    {
     "name": "stderr",
     "output_type": "stream",
     "text": [
      "[nltk_data] Downloading package punkt to\n",
      "[nltk_data]     /Users/lohithsowmiyan/nltk_data...\n",
      "[nltk_data]   Package punkt is already up-to-date!\n"
     ]
    }
   ],
   "source": [
    "now = dt.date.today()\n",
    "now = now.strftime('%m-%d-%Y')\n",
    "yesterday = dt.date.today() - dt.timedelta(days = 30)\n",
    "yesterday = yesterday.strftime('%m-%d-%Y')\n",
    "\n",
    "nltk.download('punkt')\n",
    "user_agent = 'Mozilla/5.0 (Macintosh; Intel Mac OS X 10_13_5) AppleWebKit/605.1.15 (KHTML, like Gecko) CriOS/85 Version/11.1.1 Safari/605.1.15'\n",
    "config = Config()\n",
    "config.browser_user_agent = user_agent\n",
    "#config.request_timeout = 100\n"
   ]
  },
  {
   "cell_type": "code",
   "execution_count": 3,
   "id": "4f26670f",
   "metadata": {},
   "outputs": [
    {
     "name": "stdout",
     "output_type": "stream",
     "text": [
      "Please provide the name of the Company or a Ticker: apple\n",
      "Searching for and analyzing apple, Please be patient, it might take a while...\n",
      "Empty DataFrame\n",
      "Columns: []\n",
      "Index: []\n"
     ]
    }
   ],
   "source": [
    "# save the company name in a variable\n",
    "company_name = input(\"Please provide the name of the Company or a Ticker: \")\n",
    "#As long as the company name is valid, not empty...\n",
    "if company_name != '':\n",
    "    print(f'Searching for and analyzing {company_name}, Please be patient, it might take a while...')\n",
    "\n",
    "    #Extract News with Google News\n",
    "    googlenews = GoogleNews(start=yesterday,end=now)\n",
    "    googlenews.search(company_name)\n",
    "    result = googlenews.result()\n",
    "    #store the results\n",
    "    df = pd.DataFrame(result)\n",
    "    print(df)"
   ]
  },
  {
   "cell_type": "code",
   "execution_count": 5,
   "id": "f88f43f8",
   "metadata": {},
   "outputs": [
    {
     "name": "stdout",
     "output_type": "stream",
     "text": [
      "Usage: streamlit run [OPTIONS] TARGET [ARGS]...\r\n",
      "Try 'streamlit run --help' for help.\r\n",
      "\r\n",
      "Error: Streamlit requires raw Python (.py) files, not .ipynb.\r\n",
      "For more information, please see https://docs.streamlit.io\r\n"
     ]
    }
   ],
   "source": [
    "!streamlit run Sentiment.ipynb"
   ]
  },
  {
   "cell_type": "code",
   "execution_count": 6,
   "id": "124a0f7e",
   "metadata": {},
   "outputs": [
    {
     "name": "stdout",
     "output_type": "stream",
     "text": [
      "          Date                Media  \\\n",
      "0  2 weeks ago                Apple   \n",
      "1  2 weeks ago               Forbes   \n",
      "2  2 weeks ago                WIRED   \n",
      "3  3 weeks ago   The Indian Express   \n",
      "4  3 weeks ago  European Commission   \n",
      "5  3 weeks ago            The Verge   \n",
      "6   1 week ago       Times of India   \n",
      "7   1 week ago                 Mint   \n",
      "8  3 weeks ago      Markets Insider   \n",
      "9   5 days ago            CNBC TV18   \n",
      "\n",
      "                                               Title  \\\n",
      "0  Apple, Google, and Microsoft commit to expande...   \n",
      "1  Apple’s Stunning 2022 Security Pact With Googl...   \n",
      "2                                                      \n",
      "3                                                      \n",
      "4                                       Press corner   \n",
      "5  Apple Pay is anticompetitive, says EU in preli...   \n",
      "6  apple: More than 15 lakh apps may be removed b...   \n",
      "7  Apple no longer world's most valuable company....   \n",
      "8  Nasdaq futures drop after disappointing Amazon...   \n",
      "9  Apple releases iOS 15.5: What’s new and why yo...   \n",
      "\n",
      "                                             Article  \\\n",
      "0  In a joint effort to make the web more secure ...   \n",
      "1  Truth be told, I'm not the greatest fan of Wor...   \n",
      "2                                                      \n",
      "3                                                      \n",
      "4                                                      \n",
      "5  Apple has been hit with an antitrust accusatio...   \n",
      "6  Earlier this year, Apple and Google shot off a...   \n",
      "7  Saudi Aramco overtook Apple Inc. as the world’...   \n",
      "8  Nasdaq futures dropped 0.9% Friday as investor...   \n",
      "9  After weeks of beta testing, Apple has release...   \n",
      "\n",
      "                                             Summary  \\\n",
      "0  In a joint effort to make the web more secure ...   \n",
      "1  Here's what Apple, Google and Microsoft announ...   \n",
      "2                                                      \n",
      "3                                                      \n",
      "4                                                      \n",
      "5  Apple has been hit with an antitrust accusatio...   \n",
      "6  Earlier this year, Apple and Google shot off a...   \n",
      "7  Saudi Aramco overtook Apple Inc. as the world’...   \n",
      "8  Nasdaq futures dropped 0.9% Friday as investor...   \n",
      "9  Unlike iOS 15.4 that introduced the Universal ...   \n",
      "\n",
      "                                           Key_words  \n",
      "0  [passwords, support, users, expanded, password...  \n",
      "1  [passwords, pact, 2022, passwordless, apple, s...  \n",
      "2                                                 []  \n",
      "3                                                 []  \n",
      "4                                    [press, corner]  \n",
      "5  [anticompetitive, pay, formal, european, state...  \n",
      "6  [target, 15, heres, apple, report, play, level...  \n",
      "7  [surge, saudi, price, market, apple, worlds, d...  \n",
      "8  [tech, index, prices, policy, disappointing, a...  \n",
      "9  [users, releases, ipad, whats, device, apple, ...  \n"
     ]
    }
   ],
   "source": [
    "try:\n",
    "    list =[] #creating an empty list \n",
    "    for i in df.index:\n",
    "        dict = {} #creating an empty dictionary to append an article in every single iteration\n",
    "        article = Article(df['link'][i],config=config) #providing the link\n",
    "        try:\n",
    "          article.download() #downloading the article \n",
    "          article.parse() #parsing the article\n",
    "          article.nlp() #performing natural language processing (nlp)\n",
    "        except:\n",
    "           pass \n",
    "        #storing results in our empty dictionary\n",
    "        dict['Date']=df['date'][i] \n",
    "        dict['Media']=df['media'][i]\n",
    "        dict['Title']=article.title\n",
    "        dict['Article']=article.text\n",
    "        dict['Summary']=article.summary\n",
    "        dict['Key_words']=article.keywords\n",
    "        list.append(dict)\n",
    "    check_empty = not any(list)\n",
    "    # print(check_empty)\n",
    "    if check_empty == False:\n",
    "      news_df=pd.DataFrame(list) #creating dataframe\n",
    "      print(news_df)\n",
    "\n",
    "except Exception as e:\n",
    "    #exception handling\n",
    "    print(\"exception occurred:\" + str(e))\n",
    "    print('Looks like, there is some error in retrieving the data, Please try again or try with a different ticker.' )\n"
   ]
  },
  {
   "cell_type": "code",
   "execution_count": 7,
   "id": "16f1cd1f",
   "metadata": {
    "scrolled": true
   },
   "outputs": [
    {
     "data": {
      "text/html": [
       "<div>\n",
       "<style scoped>\n",
       "    .dataframe tbody tr th:only-of-type {\n",
       "        vertical-align: middle;\n",
       "    }\n",
       "\n",
       "    .dataframe tbody tr th {\n",
       "        vertical-align: top;\n",
       "    }\n",
       "\n",
       "    .dataframe thead th {\n",
       "        text-align: right;\n",
       "    }\n",
       "</style>\n",
       "<table border=\"1\" class=\"dataframe\">\n",
       "  <thead>\n",
       "    <tr style=\"text-align: right;\">\n",
       "      <th></th>\n",
       "      <th>Date</th>\n",
       "      <th>Media</th>\n",
       "      <th>Title</th>\n",
       "      <th>Article</th>\n",
       "      <th>Summary</th>\n",
       "      <th>Key_words</th>\n",
       "    </tr>\n",
       "  </thead>\n",
       "  <tbody>\n",
       "    <tr>\n",
       "      <th>0</th>\n",
       "      <td>2 weeks ago</td>\n",
       "      <td>Apple</td>\n",
       "      <td>Apple, Google, and Microsoft commit to expande...</td>\n",
       "      <td>In a joint effort to make the web more secure ...</td>\n",
       "      <td>In a joint effort to make the web more secure ...</td>\n",
       "      <td>[passwords, support, users, expanded, password...</td>\n",
       "    </tr>\n",
       "    <tr>\n",
       "      <th>1</th>\n",
       "      <td>2 weeks ago</td>\n",
       "      <td>Forbes</td>\n",
       "      <td>Apple’s Stunning 2022 Security Pact With Googl...</td>\n",
       "      <td>Truth be told, I'm not the greatest fan of Wor...</td>\n",
       "      <td>Here's what Apple, Google and Microsoft announ...</td>\n",
       "      <td>[passwords, pact, 2022, passwordless, apple, s...</td>\n",
       "    </tr>\n",
       "    <tr>\n",
       "      <th>2</th>\n",
       "      <td>2 weeks ago</td>\n",
       "      <td>WIRED</td>\n",
       "      <td></td>\n",
       "      <td></td>\n",
       "      <td></td>\n",
       "      <td>[]</td>\n",
       "    </tr>\n",
       "    <tr>\n",
       "      <th>3</th>\n",
       "      <td>3 weeks ago</td>\n",
       "      <td>The Indian Express</td>\n",
       "      <td></td>\n",
       "      <td></td>\n",
       "      <td></td>\n",
       "      <td>[]</td>\n",
       "    </tr>\n",
       "    <tr>\n",
       "      <th>4</th>\n",
       "      <td>3 weeks ago</td>\n",
       "      <td>European Commission</td>\n",
       "      <td>Press corner</td>\n",
       "      <td></td>\n",
       "      <td></td>\n",
       "      <td>[press, corner]</td>\n",
       "    </tr>\n",
       "  </tbody>\n",
       "</table>\n",
       "</div>"
      ],
      "text/plain": [
       "          Date                Media  \\\n",
       "0  2 weeks ago                Apple   \n",
       "1  2 weeks ago               Forbes   \n",
       "2  2 weeks ago                WIRED   \n",
       "3  3 weeks ago   The Indian Express   \n",
       "4  3 weeks ago  European Commission   \n",
       "\n",
       "                                               Title  \\\n",
       "0  Apple, Google, and Microsoft commit to expande...   \n",
       "1  Apple’s Stunning 2022 Security Pact With Googl...   \n",
       "2                                                      \n",
       "3                                                      \n",
       "4                                       Press corner   \n",
       "\n",
       "                                             Article  \\\n",
       "0  In a joint effort to make the web more secure ...   \n",
       "1  Truth be told, I'm not the greatest fan of Wor...   \n",
       "2                                                      \n",
       "3                                                      \n",
       "4                                                      \n",
       "\n",
       "                                             Summary  \\\n",
       "0  In a joint effort to make the web more secure ...   \n",
       "1  Here's what Apple, Google and Microsoft announ...   \n",
       "2                                                      \n",
       "3                                                      \n",
       "4                                                      \n",
       "\n",
       "                                           Key_words  \n",
       "0  [passwords, support, users, expanded, password...  \n",
       "1  [passwords, pact, 2022, passwordless, apple, s...  \n",
       "2                                                 []  \n",
       "3                                                 []  \n",
       "4                                    [press, corner]  "
      ]
     },
     "execution_count": 7,
     "metadata": {},
     "output_type": "execute_result"
    }
   ],
   "source": [
    "news_df.head()"
   ]
  },
  {
   "cell_type": "code",
   "execution_count": 8,
   "id": "7cc9ddcd",
   "metadata": {},
   "outputs": [
    {
     "name": "stdout",
     "output_type": "stream",
     "text": [
      "<class 'pandas.core.frame.DataFrame'>\n",
      "RangeIndex: 10 entries, 0 to 9\n",
      "Data columns (total 6 columns):\n",
      " #   Column     Non-Null Count  Dtype \n",
      "---  ------     --------------  ----- \n",
      " 0   Date       10 non-null     object\n",
      " 1   Media      10 non-null     object\n",
      " 2   Title      10 non-null     object\n",
      " 3   Article    10 non-null     object\n",
      " 4   Summary    10 non-null     object\n",
      " 5   Key_words  10 non-null     object\n",
      "dtypes: object(6)\n",
      "memory usage: 608.0+ bytes\n"
     ]
    }
   ],
   "source": [
    "news_df.info()"
   ]
  },
  {
   "cell_type": "code",
   "execution_count": 9,
   "id": "faab9b14",
   "metadata": {},
   "outputs": [],
   "source": [
    "data = news_df['Summary']"
   ]
  },
  {
   "cell_type": "markdown",
   "id": "efaa0c51",
   "metadata": {},
   "source": [
    "# NLP Processing steps:"
   ]
  },
  {
   "cell_type": "markdown",
   "id": "8fa7ac48",
   "metadata": {},
   "source": [
    "## tokenizing"
   ]
  },
  {
   "cell_type": "code",
   "execution_count": 10,
   "id": "652f8ea3",
   "metadata": {},
   "outputs": [
    {
     "data": {
      "text/plain": [
       "0    In a joint effort to make the web more secure ...\n",
       "1    Here's what Apple, Google and Microsoft announ...\n",
       "2                                                     \n",
       "3                                                     \n",
       "4                                                     \n",
       "Name: Summary, dtype: object"
      ]
     },
     "execution_count": 10,
     "metadata": {},
     "output_type": "execute_result"
    }
   ],
   "source": [
    "data.head()"
   ]
  },
  {
   "cell_type": "code",
   "execution_count": 11,
   "id": "a787bf64",
   "metadata": {},
   "outputs": [],
   "source": [
    "from nltk import word_tokenize"
   ]
  },
  {
   "cell_type": "code",
   "execution_count": 12,
   "id": "780245dd",
   "metadata": {},
   "outputs": [
    {
     "data": {
      "text/plain": [
       "0    [In, a, joint, effort, to, make, the, web, mor...\n",
       "1    [Here, 's, what, Apple, ,, Google, and, Micros...\n",
       "2                                                   []\n",
       "3                                                   []\n",
       "4                                                   []\n",
       "5    [Apple, has, been, hit, with, an, antitrust, a...\n",
       "6    [Earlier, this, year, ,, Apple, and, Google, s...\n",
       "7    [Saudi, Aramco, overtook, Apple, Inc., as, the...\n",
       "8    [Nasdaq, futures, dropped, 0.9, %, Friday, as,...\n",
       "9    [Unlike, iOS, 15.4, that, introduced, the, Uni...\n",
       "Name: Summary, dtype: object"
      ]
     },
     "execution_count": 12,
     "metadata": {},
     "output_type": "execute_result"
    }
   ],
   "source": [
    "data = data.apply(lambda text : word_tokenize(text))\n",
    "data"
   ]
  },
  {
   "cell_type": "code",
   "execution_count": 13,
   "id": "04bd2947",
   "metadata": {},
   "outputs": [
    {
     "data": {
      "text/plain": [
       "0    [In, a, joint, effort, to, make, the, web, mor...\n",
       "1    [Here, 's, what, Apple, ,, Google, and, Micros...\n",
       "5    [Apple, has, been, hit, with, an, antitrust, a...\n",
       "6    [Earlier, this, year, ,, Apple, and, Google, s...\n",
       "7    [Saudi, Aramco, overtook, Apple, Inc., as, the...\n",
       "Name: Summary, dtype: object"
      ]
     },
     "execution_count": 13,
     "metadata": {},
     "output_type": "execute_result"
    }
   ],
   "source": [
    "for row,i in zip(data,data.index):\n",
    "    if row == []:\n",
    "        data.drop(i,inplace=True)\n",
    "data.head()"
   ]
  },
  {
   "cell_type": "markdown",
   "id": "975cfa96",
   "metadata": {},
   "source": [
    "## removing stopwords"
   ]
  },
  {
   "cell_type": "code",
   "execution_count": 14,
   "id": "1d649821",
   "metadata": {},
   "outputs": [],
   "source": [
    "from nltk.corpus import stopwords\n",
    "en_stopwords = stopwords.words('english')\n",
    "\n",
    "def remove_stopwords(text):\n",
    "    li = []\n",
    "    for word in text:\n",
    "        if word not in en_stopwords:\n",
    "            li.append(word)\n",
    "    return li"
   ]
  },
  {
   "cell_type": "code",
   "execution_count": 15,
   "id": "3516a5e7",
   "metadata": {},
   "outputs": [
    {
     "data": {
      "text/plain": [
       "0    [In, joint, effort, make, web, secure, usable,...\n",
       "1    [Here, 's, Apple, ,, Google, Microsoft, announ...\n",
       "5    [Apple, hit, antitrust, accusation, European, ...\n",
       "6    [Earlier, year, ,, Apple, Google, shot, warnin...\n",
       "7    [Saudi, Aramco, overtook, Apple, Inc., world, ...\n",
       "8    [Nasdaq, futures, dropped, 0.9, %, Friday, inv...\n",
       "9    [Unlike, iOS, 15.4, introduced, Universal, Con...\n",
       "Name: Summary, dtype: object"
      ]
     },
     "execution_count": 15,
     "metadata": {},
     "output_type": "execute_result"
    }
   ],
   "source": [
    "data = data.apply(remove_stopwords)\n",
    "data"
   ]
  },
  {
   "cell_type": "markdown",
   "id": "81e6547f",
   "metadata": {},
   "source": [
    "## removing special character strings"
   ]
  },
  {
   "cell_type": "code",
   "execution_count": 16,
   "id": "d42c3270",
   "metadata": {},
   "outputs": [],
   "source": [
    "from nltk.tokenize import RegexpTokenizer\n",
    "\n",
    "def remove_punct(text):\n",
    "    \n",
    "    tokenizer = RegexpTokenizer(r\"\\w+\")\n",
    "    lst=tokenizer.tokenize(' '.join(text))\n",
    "    return lst"
   ]
  },
  {
   "cell_type": "code",
   "execution_count": 17,
   "id": "79ba8ca9",
   "metadata": {},
   "outputs": [
    {
     "data": {
      "text/plain": [
       "0    [In, joint, effort, make, web, secure, usable,...\n",
       "1    [Here, s, Apple, Google, Microsoft, announced,...\n",
       "5    [Apple, hit, antitrust, accusation, European, ...\n",
       "6    [Earlier, year, Apple, Google, shot, warning, ...\n",
       "7    [Saudi, Aramco, overtook, Apple, Inc, world, v...\n",
       "8    [Nasdaq, futures, dropped, 0, 9, Friday, inves...\n",
       "9    [Unlike, iOS, 15, 4, introduced, Universal, Co...\n",
       "Name: Summary, dtype: object"
      ]
     },
     "execution_count": 17,
     "metadata": {},
     "output_type": "execute_result"
    }
   ],
   "source": [
    "data=data.apply(remove_punct)\n",
    "data"
   ]
  },
  {
   "cell_type": "code",
   "execution_count": 18,
   "id": "41725523",
   "metadata": {},
   "outputs": [
    {
     "data": {
      "text/plain": [
       "[('Apple', 27),\n",
       " ('Google', 11),\n",
       " ('The', 9),\n",
       " ('iOS', 9),\n",
       " ('apps', 8),\n",
       " ('Store', 8),\n",
       " ('Microsoft', 7),\n",
       " ('15', 7),\n",
       " ('App', 6),\n",
       " ('5', 6)]"
      ]
     },
     "execution_count": 18,
     "metadata": {},
     "output_type": "execute_result"
    }
   ],
   "source": [
    "from nltk import FreqDist\n",
    "def frequent_words(df):\n",
    "    \n",
    "    lst=[]\n",
    "    for text in df.values:\n",
    "        lst+=text\n",
    "    fdist=FreqDist(lst)\n",
    "    return fdist.most_common(10)\n",
    "\n",
    "frequent_words(data)"
   ]
  },
  {
   "cell_type": "markdown",
   "id": "9b314aa4",
   "metadata": {},
   "source": [
    "## lemmatize"
   ]
  },
  {
   "cell_type": "code",
   "execution_count": 19,
   "id": "18833c2a",
   "metadata": {},
   "outputs": [],
   "source": [
    "from nltk.stem import WordNetLemmatizer\n",
    "from nltk import word_tokenize,pos_tag\n",
    "\n",
    "def lemmatization(text):\n",
    "    \n",
    "    result=[]\n",
    "    wordnet = WordNetLemmatizer()\n",
    "    for token,tag in pos_tag(text):\n",
    "        pos=tag[0].lower()\n",
    "        \n",
    "        if pos not in ['a', 'r', 'n', 'v']:\n",
    "            pos='n'\n",
    "            \n",
    "        result.append(wordnet.lemmatize(token,pos))\n",
    "    \n",
    "    return result"
   ]
  },
  {
   "cell_type": "code",
   "execution_count": 20,
   "id": "4e00c391",
   "metadata": {},
   "outputs": [
    {
     "data": {
      "text/plain": [
       "0    [In, joint, effort, make, web, secure, usable,...\n",
       "1    [Here, s, Apple, Google, Microsoft, announce, ...\n",
       "5    [Apple, hit, antitrust, accusation, European, ...\n",
       "6    [Earlier, year, Apple, Google, shot, warn, dev...\n",
       "7    [Saudi, Aramco, overtook, Apple, Inc, world, v...\n",
       "8    [Nasdaq, future, drop, 0, 9, Friday, investor,...\n",
       "9    [Unlike, iOS, 15, 4, introduce, Universal, Con...\n",
       "Name: Summary, dtype: object"
      ]
     },
     "execution_count": 20,
     "metadata": {},
     "output_type": "execute_result"
    }
   ],
   "source": [
    "data =data.apply(lemmatization)\n",
    "data"
   ]
  },
  {
   "cell_type": "markdown",
   "id": "abd060f8",
   "metadata": {},
   "source": [
    "# NLP Vader classification"
   ]
  },
  {
   "cell_type": "code",
   "execution_count": 19,
   "id": "485ae023",
   "metadata": {},
   "outputs": [
    {
     "name": "stderr",
     "output_type": "stream",
     "text": [
      "[nltk_data] Downloading package vader_lexicon to\n",
      "[nltk_data]     /Users/lohithsowmiyan/nltk_data...\n",
      "[nltk_data]   Package vader_lexicon is already up-to-date!\n"
     ]
    },
    {
     "data": {
      "text/plain": [
       "True"
      ]
     },
     "execution_count": 19,
     "metadata": {},
     "output_type": "execute_result"
    }
   ],
   "source": [
    "nltk.download('vader_lexicon')"
   ]
  },
  {
   "cell_type": "code",
   "execution_count": 21,
   "id": "33497bc4",
   "metadata": {},
   "outputs": [],
   "source": [
    "import numpy as np"
   ]
  },
  {
   "cell_type": "code",
   "execution_count": 22,
   "id": "d3327b19",
   "metadata": {},
   "outputs": [],
   "source": [
    "from nltk.sentiment.vader import SentimentIntensityAnalyzer \n",
    "\n",
    "si = SentimentIntensityAnalyzer()\n",
    "\n",
    "def classify_sentiments(text):\n",
    "    string = \" \".join(text)\n",
    "    return si.polarity_scores(string)"
   ]
  },
  {
   "cell_type": "code",
   "execution_count": 23,
   "id": "357a1fe7",
   "metadata": {},
   "outputs": [
    {
     "data": {
      "text/html": [
       "<div>\n",
       "<style scoped>\n",
       "    .dataframe tbody tr th:only-of-type {\n",
       "        vertical-align: middle;\n",
       "    }\n",
       "\n",
       "    .dataframe tbody tr th {\n",
       "        vertical-align: top;\n",
       "    }\n",
       "\n",
       "    .dataframe thead th {\n",
       "        text-align: right;\n",
       "    }\n",
       "</style>\n",
       "<table border=\"1\" class=\"dataframe\">\n",
       "  <thead>\n",
       "    <tr style=\"text-align: right;\">\n",
       "      <th></th>\n",
       "      <th>text</th>\n",
       "      <th>scores</th>\n",
       "    </tr>\n",
       "  </thead>\n",
       "  <tbody>\n",
       "    <tr>\n",
       "      <th>0</th>\n",
       "      <td>[In, joint, effort, make, web, secure, usable,...</td>\n",
       "      <td>{'neg': 0.0, 'neu': 0.715, 'pos': 0.285, 'comp...</td>\n",
       "    </tr>\n",
       "    <tr>\n",
       "      <th>1</th>\n",
       "      <td>[Here, s, Apple, Google, Microsoft, announce, ...</td>\n",
       "      <td>{'neg': 0.027, 'neu': 0.676, 'pos': 0.298, 'co...</td>\n",
       "    </tr>\n",
       "    <tr>\n",
       "      <th>5</th>\n",
       "      <td>[Apple, hit, antitrust, accusation, European, ...</td>\n",
       "      <td>{'neg': 0.161, 'neu': 0.741, 'pos': 0.098, 'co...</td>\n",
       "    </tr>\n",
       "    <tr>\n",
       "      <th>6</th>\n",
       "      <td>[Earlier, year, Apple, Google, shot, warn, dev...</td>\n",
       "      <td>{'neg': 0.107, 'neu': 0.795, 'pos': 0.099, 'co...</td>\n",
       "    </tr>\n",
       "    <tr>\n",
       "      <th>7</th>\n",
       "      <td>[Saudi, Aramco, overtook, Apple, Inc, world, v...</td>\n",
       "      <td>{'neg': 0.102, 'neu': 0.665, 'pos': 0.233, 'co...</td>\n",
       "    </tr>\n",
       "  </tbody>\n",
       "</table>\n",
       "</div>"
      ],
      "text/plain": [
       "                                                text  \\\n",
       "0  [In, joint, effort, make, web, secure, usable,...   \n",
       "1  [Here, s, Apple, Google, Microsoft, announce, ...   \n",
       "5  [Apple, hit, antitrust, accusation, European, ...   \n",
       "6  [Earlier, year, Apple, Google, shot, warn, dev...   \n",
       "7  [Saudi, Aramco, overtook, Apple, Inc, world, v...   \n",
       "\n",
       "                                              scores  \n",
       "0  {'neg': 0.0, 'neu': 0.715, 'pos': 0.285, 'comp...  \n",
       "1  {'neg': 0.027, 'neu': 0.676, 'pos': 0.298, 'co...  \n",
       "5  {'neg': 0.161, 'neu': 0.741, 'pos': 0.098, 'co...  \n",
       "6  {'neg': 0.107, 'neu': 0.795, 'pos': 0.099, 'co...  \n",
       "7  {'neg': 0.102, 'neu': 0.665, 'pos': 0.233, 'co...  "
      ]
     },
     "execution_count": 23,
     "metadata": {},
     "output_type": "execute_result"
    }
   ],
   "source": [
    "scores = data.apply(classify_sentiments)\n",
    "sentiments = pd.DataFrame({'text':data,'scores':scores})\n",
    "#sentiments['label'] = scores.apply(lambda label: np.argmax(label))\n",
    "sentiments.head()"
   ]
  },
  {
   "cell_type": "code",
   "execution_count": 24,
   "id": "3406d2bc",
   "metadata": {
    "scrolled": true
   },
   "outputs": [
    {
     "name": "stdout",
     "output_type": "stream",
     "text": [
      "Positive Sentiment: 57.14\n",
      "Neutral Sentiment: 0.00\n",
      "Negative Sentiment: 42.86\n"
     ]
    },
    {
     "data": {
      "image/png": "[encoded data removed]",
      "text/plain": [
       "<Figure size 432x288 with 1 Axes>"
      ]
     },
     "metadata": {},
     "output_type": "display_data"
    }
   ],
   "source": [
    "#Sentiment Analysis\n",
    "def percentage(part,whole):\n",
    "    return 100 * float(part)/float(whole)\n",
    "\n",
    "#Assigning Initial Values\n",
    "positive = 0\n",
    "negative = 0\n",
    "neutral = 0\n",
    "#Creating empty lists\n",
    "news_list = []\n",
    "neutral_list = []\n",
    "negative_list = []\n",
    "positive_list = []\n",
    "\n",
    "#Iterating over the tweets in the dataframe\n",
    "for score in sentiments['scores']:\n",
    "    \n",
    "    if score['neg'] > score['pos']:\n",
    "        negative += 1 #increasing the count by 1\n",
    "    elif score['pos'] > score['neg']:\n",
    "        positive += 1 #increasing the count by 1\n",
    "    elif score['pos'] == score['neg']:\n",
    "        neutral += 1 #increasing the count by 1 \n",
    "\n",
    "positive = percentage(positive,len(sentiments['text'])) #percentage is the function defined above\n",
    "negative = percentage(negative,len(sentiments['text']))\n",
    "neutral = percentage(neutral,len(sentiments['text']))\n",
    "\n",
    "#Converting lists to pandas dataframe\n",
    "\n",
    "#using len(length) function for counting\n",
    "print(\"Positive Sentiment:\", '%.2f' % positive, end='\\n')\n",
    "print(\"Neutral Sentiment:\", '%.2f' % neutral, end='\\n')\n",
    "print(\"Negative Sentiment:\", '%.2f' % negative, end='\\n')\n",
    "\n",
    "#Creating PieCart\n",
    "labels = ['Positive ['+str(round(positive))+'%]' , 'Neutral ['+str(round(neutral))+'%]','Negative ['+str(round(negative))+'%]']\n",
    "sizes = [positive, neutral, negative]\n",
    "colors = ['yellowgreen', 'blue','red']\n",
    "patches, texts = plt.pie(sizes,colors=colors, startangle=90)\n",
    "plt.style.use('default')\n",
    "plt.legend(labels)\n",
    "plt.title(\"Sentiment Analysis Result for stock= \"+company_name+\"\" )\n",
    "plt.axis('equal')\n",
    "plt.show()"
   ]
  },
  {
   "cell_type": "code",
   "execution_count": null,
   "id": "958657ad",
   "metadata": {},
   "outputs": [],
   "source": []
  },
  {
   "cell_type": "code",
   "execution_count": 25,
   "id": "e2d2c1a4",
   "metadata": {},
   "outputs": [],
   "source": [
    "import yfinance as yf\n",
    "from pandas_datareader.data import DataReader\n",
    "from datetime import datetime,date\n",
    "import requests"
   ]
  },
  {
   "cell_type": "code",
   "execution_count": 30,
   "id": "77487ce5",
   "metadata": {},
   "outputs": [
    {
     "name": "stdout",
     "output_type": "stream",
     "text": [
      "{'message': 'Forbidden', 'hint': 'Sign up for API key https://financeapi.com/tutorial'}\n"
     ]
    }
   ],
   "source": [
    "import yfinance as yf\n",
    "\n",
    "stock_name_list = []\n",
    "def getStock(search_term):\n",
    "    results = []\n",
    "    query = requests.get(f'https://yfapi.net/v6/finance/autocomplete?region=IN&lang=en&query={search_term}', \n",
    "    headers={\n",
    "        'accept': 'application/json',\n",
    "        'X-API-KEY': 'I8Rvn4Fa7R9FTRV4U7qNx8UzoEEAg9oYGllN9Fmd'\n",
    "    })\n",
    "    response = query.json()\n",
    "    print(response)\n",
    "    \n",
    "    for i in response['ResultSet']['Result']:\n",
    "        final = i['symbol']\n",
    "        results.append(final)\n",
    "        stock_name_list.append(final)\n",
    "        \n",
    "    \n",
    "    stock_list = [results[0]]\n",
    "\n",
    "    end = datetime.now()\n",
    "    start = datetime(end.year,1,end.day)\n",
    "\n",
    "    for stock in stock_list:\n",
    "        globals()[stock] = yf.download(stock ,start ,end)\n",
    "    #print(globals()[results[0]])\n",
    "\n",
    "getStock(company_name)"
   ]
  },
  {
   "cell_type": "code",
   "execution_count": 26,
   "id": "cb374a66",
   "metadata": {},
   "outputs": [],
   "source": [
    "import seaborn as sns"
   ]
  },
  {
   "cell_type": "code",
   "execution_count": 27,
   "id": "433e5ca0",
   "metadata": {},
   "outputs": [
    {
     "data": {
      "text/plain": [
       "['GOOG', '^VXGOG']"
      ]
     },
     "execution_count": 27,
     "metadata": {},
     "output_type": "execute_result"
    }
   ],
   "source": [
    "stock_name_list"
   ]
  },
  {
   "cell_type": "code",
   "execution_count": 28,
   "id": "ad5b00cb",
   "metadata": {},
   "outputs": [],
   "source": [
    "comp = globals()[stock_name_list[0]]"
   ]
  },
  {
   "cell_type": "code",
   "execution_count": 29,
   "id": "50394d40",
   "metadata": {},
   "outputs": [],
   "source": [
    "ma = [10,20,30]\n",
    "\n",
    "for i in ma:\n",
    "    column_name = \"MA for {ma}\".format(ma=i)\n",
    "    axis[column_name] = axis['Close'].rolling(i).mean()"
   ]
  },
  {
   "cell_type": "code",
   "execution_count": 30,
   "id": "4b657e0a",
   "metadata": {},
   "outputs": [
    {
     "data": {
      "text/html": [
       "<div>\n",
       "<style scoped>\n",
       "    .dataframe tbody tr th:only-of-type {\n",
       "        vertical-align: middle;\n",
       "    }\n",
       "\n",
       "    .dataframe tbody tr th {\n",
       "        vertical-align: top;\n",
       "    }\n",
       "\n",
       "    .dataframe thead th {\n",
       "        text-align: right;\n",
       "    }\n",
       "</style>\n",
       "<table border=\"1\" class=\"dataframe\">\n",
       "  <thead>\n",
       "    <tr style=\"text-align: right;\">\n",
       "      <th></th>\n",
       "      <th>Open</th>\n",
       "      <th>High</th>\n",
       "      <th>Low</th>\n",
       "      <th>Close</th>\n",
       "      <th>Adj Close</th>\n",
       "      <th>Volume</th>\n",
       "      <th>MA for 10</th>\n",
       "      <th>MA for 20</th>\n",
       "      <th>MA for 30</th>\n",
       "    </tr>\n",
       "    <tr>\n",
       "      <th>Date</th>\n",
       "      <th></th>\n",
       "      <th></th>\n",
       "      <th></th>\n",
       "      <th></th>\n",
       "      <th></th>\n",
       "      <th></th>\n",
       "      <th></th>\n",
       "      <th></th>\n",
       "      <th></th>\n",
       "    </tr>\n",
       "  </thead>\n",
       "  <tbody>\n",
       "    <tr>\n",
       "      <th>2022-01-10</th>\n",
       "      <td>2701.979980</td>\n",
       "      <td>2772.800049</td>\n",
       "      <td>2662.810059</td>\n",
       "      <td>2771.479980</td>\n",
       "      <td>2771.479980</td>\n",
       "      <td>1704800</td>\n",
       "      <td>NaN</td>\n",
       "      <td>NaN</td>\n",
       "      <td>NaN</td>\n",
       "    </tr>\n",
       "    <tr>\n",
       "      <th>2022-01-11</th>\n",
       "      <td>2763.610107</td>\n",
       "      <td>2806.590088</td>\n",
       "      <td>2736.270020</td>\n",
       "      <td>2800.350098</td>\n",
       "      <td>2800.350098</td>\n",
       "      <td>1175100</td>\n",
       "      <td>NaN</td>\n",
       "      <td>NaN</td>\n",
       "      <td>NaN</td>\n",
       "    </tr>\n",
       "    <tr>\n",
       "      <th>2022-01-12</th>\n",
       "      <td>2831.090088</td>\n",
       "      <td>2856.284912</td>\n",
       "      <td>2822.239990</td>\n",
       "      <td>2832.959961</td>\n",
       "      <td>2832.959961</td>\n",
       "      <td>1182100</td>\n",
       "      <td>NaN</td>\n",
       "      <td>NaN</td>\n",
       "      <td>NaN</td>\n",
       "    </tr>\n",
       "    <tr>\n",
       "      <th>2022-01-13</th>\n",
       "      <td>2836.810059</td>\n",
       "      <td>2863.709961</td>\n",
       "      <td>2778.280029</td>\n",
       "      <td>2782.620117</td>\n",
       "      <td>2782.620117</td>\n",
       "      <td>1328300</td>\n",
       "      <td>NaN</td>\n",
       "      <td>NaN</td>\n",
       "      <td>NaN</td>\n",
       "    </tr>\n",
       "    <tr>\n",
       "      <th>2022-01-14</th>\n",
       "      <td>2750.000000</td>\n",
       "      <td>2824.010010</td>\n",
       "      <td>2750.000000</td>\n",
       "      <td>2795.729980</td>\n",
       "      <td>2795.729980</td>\n",
       "      <td>1191300</td>\n",
       "      <td>NaN</td>\n",
       "      <td>NaN</td>\n",
       "      <td>NaN</td>\n",
       "    </tr>\n",
       "  </tbody>\n",
       "</table>\n",
       "</div>"
      ],
      "text/plain": [
       "                   Open         High          Low        Close    Adj Close  \\\n",
       "Date                                                                          \n",
       "2022-01-10  2701.979980  2772.800049  2662.810059  2771.479980  2771.479980   \n",
       "2022-01-11  2763.610107  2806.590088  2736.270020  2800.350098  2800.350098   \n",
       "2022-01-12  2831.090088  2856.284912  2822.239990  2832.959961  2832.959961   \n",
       "2022-01-13  2836.810059  2863.709961  2778.280029  2782.620117  2782.620117   \n",
       "2022-01-14  2750.000000  2824.010010  2750.000000  2795.729980  2795.729980   \n",
       "\n",
       "             Volume  MA for 10  MA for 20  MA for 30  \n",
       "Date                                                  \n",
       "2022-01-10  1704800        NaN        NaN        NaN  \n",
       "2022-01-11  1175100        NaN        NaN        NaN  \n",
       "2022-01-12  1182100        NaN        NaN        NaN  \n",
       "2022-01-13  1328300        NaN        NaN        NaN  \n",
       "2022-01-14  1191300        NaN        NaN        NaN  "
      ]
     },
     "execution_count": 30,
     "metadata": {},
     "output_type": "execute_result"
    }
   ],
   "source": [
    "axis.head()"
   ]
  },
  {
   "cell_type": "code",
   "execution_count": 31,
   "id": "afc9bdb8",
   "metadata": {
    "scrolled": false
   },
   "outputs": [
    {
     "data": {
      "image/png": "[encoded data removed]",
      "text/plain": [
       "<Figure size 3000x1500 with 1 Axes>"
      ]
     },
     "metadata": {},
     "output_type": "display_data"
    }
   ],
   "source": [
    "plt.figure(figsize=(30,15))\n",
    "sns.lineplot(x = axis.index,y=axis['Adj Close'],color='green')\n",
    "sns.lineplot(x = axis.index,y=axis['MA for 10'],color='blue',label='ma for 10 days')\n",
    "sns.lineplot(x =axis.index,y=axis['MA for 20'],color='yellow',label='ma for 20 days')\n",
    "sns.lineplot(x = axis.index,y=axis['MA for 30'],color='red',label='ma for 30 days')\n",
    "plt.title('axis')\n",
    "plt.xlabel(None)\n",
    "plt.ylabel('Adj Close')\n",
    "plt.show()"
   ]
  },
  {
   "cell_type": "code",
   "execution_count": 32,
   "id": "a0568ad8",
   "metadata": {},
   "outputs": [
    {
     "name": "stdout",
     "output_type": "stream",
     "text": [
      "Attributes list\n",
      "zip\n",
      "sector\n",
      "fullTimeEmployees\n",
      "longBusinessSummary\n",
      "city\n",
      "phone\n",
      "state\n",
      "country\n",
      "companyOfficers\n",
      "website\n",
      "maxAge\n",
      "address1\n",
      "industry\n",
      "ebitdaMargins\n",
      "profitMargins\n",
      "grossMargins\n",
      "operatingCashflow\n",
      "revenueGrowth\n",
      "operatingMargins\n",
      "ebitda\n",
      "targetLowPrice\n",
      "recommendationKey\n",
      "grossProfits\n",
      "freeCashflow\n",
      "targetMedianPrice\n",
      "currentPrice\n",
      "earningsGrowth\n",
      "currentRatio\n",
      "returnOnAssets\n",
      "numberOfAnalystOpinions\n",
      "targetMeanPrice\n",
      "debtToEquity\n",
      "returnOnEquity\n",
      "targetHighPrice\n",
      "totalCash\n",
      "totalDebt\n",
      "totalRevenue\n",
      "totalCashPerShare\n",
      "financialCurrency\n",
      "revenuePerShare\n",
      "quickRatio\n",
      "recommendationMean\n",
      "exchange\n",
      "shortName\n",
      "longName\n",
      "exchangeTimezoneName\n",
      "exchangeTimezoneShortName\n",
      "isEsgPopulated\n",
      "gmtOffSetMilliseconds\n",
      "quoteType\n",
      "symbol\n",
      "messageBoardId\n",
      "market\n",
      "annualHoldingsTurnover\n",
      "enterpriseToRevenue\n",
      "beta3Year\n",
      "enterpriseToEbitda\n",
      "52WeekChange\n",
      "morningStarRiskRating\n",
      "forwardEps\n",
      "revenueQuarterlyGrowth\n",
      "sharesOutstanding\n",
      "fundInceptionDate\n",
      "annualReportExpenseRatio\n",
      "totalAssets\n",
      "bookValue\n",
      "sharesShort\n",
      "sharesPercentSharesOut\n",
      "fundFamily\n",
      "lastFiscalYearEnd\n",
      "heldPercentInstitutions\n",
      "netIncomeToCommon\n",
      "trailingEps\n",
      "lastDividendValue\n",
      "SandP52WeekChange\n",
      "priceToBook\n",
      "heldPercentInsiders\n",
      "nextFiscalYearEnd\n",
      "yield\n",
      "mostRecentQuarter\n",
      "shortRatio\n",
      "sharesShortPreviousMonthDate\n",
      "floatShares\n",
      "beta\n",
      "enterpriseValue\n",
      "priceHint\n",
      "threeYearAverageReturn\n",
      "lastSplitDate\n",
      "lastSplitFactor\n",
      "legalType\n",
      "lastDividendDate\n",
      "morningStarOverallRating\n",
      "earningsQuarterlyGrowth\n",
      "priceToSalesTrailing12Months\n",
      "dateShortInterest\n",
      "pegRatio\n",
      "ytdReturn\n",
      "forwardPE\n",
      "lastCapGain\n",
      "shortPercentOfFloat\n",
      "sharesShortPriorMonth\n",
      "impliedSharesOutstanding\n",
      "category\n",
      "fiveYearAverageReturn\n",
      "previousClose\n",
      "regularMarketOpen\n",
      "twoHundredDayAverage\n",
      "trailingAnnualDividendYield\n",
      "payoutRatio\n",
      "volume24Hr\n",
      "regularMarketDayHigh\n",
      "navPrice\n",
      "averageDailyVolume10Day\n",
      "regularMarketPreviousClose\n",
      "fiftyDayAverage\n",
      "trailingAnnualDividendRate\n",
      "open\n",
      "toCurrency\n",
      "averageVolume10days\n",
      "expireDate\n",
      "algorithm\n",
      "dividendRate\n",
      "exDividendDate\n",
      "circulatingSupply\n",
      "startDate\n",
      "regularMarketDayLow\n",
      "currency\n",
      "trailingPE\n",
      "regularMarketVolume\n",
      "lastMarket\n",
      "maxSupply\n",
      "openInterest\n",
      "marketCap\n",
      "volumeAllCurrencies\n",
      "strikePrice\n",
      "averageVolume\n",
      "dayLow\n",
      "ask\n",
      "askSize\n",
      "volume\n",
      "fiftyTwoWeekHigh\n",
      "fromCurrency\n",
      "fiveYearAvgDividendYield\n",
      "fiftyTwoWeekLow\n",
      "bid\n",
      "tradeable\n",
      "dividendYield\n",
      "bidSize\n",
      "dayHigh\n",
      "regularMarketPrice\n",
      "preMarketPrice\n",
      "logo_url\n",
      "trailingPegRatio\n"
     ]
    }
   ],
   "source": [
    "company = yf.Ticker(stock_name_list[0])\n",
    "print(\"Attributes list\")\n",
    "for i in company.info.keys():\n",
    "    print(i)"
   ]
  },
  {
   "cell_type": "code",
   "execution_count": 33,
   "id": "d6f392f8",
   "metadata": {},
   "outputs": [
    {
     "name": "stdout",
     "output_type": "stream",
     "text": [
      "Enter any attributegrossProfits\n",
      "grossProfits  for  google  =  146698000000\n"
     ]
    }
   ],
   "source": [
    "attr = input(\"Enter any attribute\")\n",
    "print(attr,\" for \",company_name,\" = \",company.info[attr])"
   ]
  },
  {
   "cell_type": "code",
   "execution_count": 34,
   "id": "7b58c9da",
   "metadata": {},
   "outputs": [],
   "source": [
    "import yahoo_fin.stock_info as si"
   ]
  },
  {
   "cell_type": "code",
   "execution_count": 35,
   "id": "7b13c089",
   "metadata": {},
   "outputs": [
    {
     "data": {
      "text/html": [
       "<div>\n",
       "<style scoped>\n",
       "    .dataframe tbody tr th:only-of-type {\n",
       "        vertical-align: middle;\n",
       "    }\n",
       "\n",
       "    .dataframe tbody tr th {\n",
       "        vertical-align: top;\n",
       "    }\n",
       "\n",
       "    .dataframe thead th {\n",
       "        text-align: right;\n",
       "    }\n",
       "</style>\n",
       "<table border=\"1\" class=\"dataframe\">\n",
       "  <thead>\n",
       "    <tr style=\"text-align: right;\">\n",
       "      <th></th>\n",
       "      <th>0</th>\n",
       "      <th>1</th>\n",
       "    </tr>\n",
       "  </thead>\n",
       "  <tbody>\n",
       "    <tr>\n",
       "      <th>0</th>\n",
       "      <td>Market Cap (intraday)</td>\n",
       "      <td>1.54T</td>\n",
       "    </tr>\n",
       "    <tr>\n",
       "      <th>1</th>\n",
       "      <td>Enterprise Value</td>\n",
       "      <td>1.43T</td>\n",
       "    </tr>\n",
       "    <tr>\n",
       "      <th>2</th>\n",
       "      <td>Trailing P/E</td>\n",
       "      <td>21.12</td>\n",
       "    </tr>\n",
       "    <tr>\n",
       "      <th>3</th>\n",
       "      <td>Forward P/E</td>\n",
       "      <td>20.49</td>\n",
       "    </tr>\n",
       "    <tr>\n",
       "      <th>4</th>\n",
       "      <td>PEG Ratio (5 yr expected)</td>\n",
       "      <td>0.83</td>\n",
       "    </tr>\n",
       "    <tr>\n",
       "      <th>5</th>\n",
       "      <td>Price/Sales (ttm)</td>\n",
       "      <td>5.82</td>\n",
       "    </tr>\n",
       "    <tr>\n",
       "      <th>6</th>\n",
       "      <td>Price/Book (mrq)</td>\n",
       "      <td>6.05</td>\n",
       "    </tr>\n",
       "    <tr>\n",
       "      <th>7</th>\n",
       "      <td>Enterprise Value/Revenue</td>\n",
       "      <td>5.29</td>\n",
       "    </tr>\n",
       "    <tr>\n",
       "      <th>8</th>\n",
       "      <td>Enterprise Value/EBITDA</td>\n",
       "      <td>13.99</td>\n",
       "    </tr>\n",
       "  </tbody>\n",
       "</table>\n",
       "</div>"
      ],
      "text/plain": [
       "                           0      1\n",
       "0      Market Cap (intraday)  1.54T\n",
       "1           Enterprise Value  1.43T\n",
       "2               Trailing P/E  21.12\n",
       "3                Forward P/E  20.49\n",
       "4  PEG Ratio (5 yr expected)   0.83\n",
       "5          Price/Sales (ttm)   5.82\n",
       "6           Price/Book (mrq)   6.05\n",
       "7   Enterprise Value/Revenue   5.29\n",
       "8    Enterprise Value/EBITDA  13.99"
      ]
     },
     "execution_count": 35,
     "metadata": {},
     "output_type": "execute_result"
    }
   ],
   "source": [
    "si.get_stats_valuation(stock_name_list[0])"
   ]
  },
  {
   "cell_type": "code",
   "execution_count": 36,
   "id": "989f45fe",
   "metadata": {},
   "outputs": [
    {
     "data": {
      "text/html": [
       "<div>\n",
       "<style scoped>\n",
       "    .dataframe tbody tr th:only-of-type {\n",
       "        vertical-align: middle;\n",
       "    }\n",
       "\n",
       "    .dataframe tbody tr th {\n",
       "        vertical-align: top;\n",
       "    }\n",
       "\n",
       "    .dataframe thead th {\n",
       "        text-align: right;\n",
       "    }\n",
       "</style>\n",
       "<table border=\"1\" class=\"dataframe\">\n",
       "  <thead>\n",
       "    <tr style=\"text-align: right;\">\n",
       "      <th>Breakdown</th>\n",
       "      <th>researchDevelopment</th>\n",
       "      <th>effectOfAccountingCharges</th>\n",
       "      <th>incomeBeforeTax</th>\n",
       "      <th>minorityInterest</th>\n",
       "      <th>netIncome</th>\n",
       "      <th>sellingGeneralAdministrative</th>\n",
       "      <th>grossProfit</th>\n",
       "      <th>ebit</th>\n",
       "      <th>operatingIncome</th>\n",
       "      <th>otherOperatingExpenses</th>\n",
       "      <th>...</th>\n",
       "      <th>nonRecurring</th>\n",
       "      <th>otherItems</th>\n",
       "      <th>incomeTaxExpense</th>\n",
       "      <th>totalRevenue</th>\n",
       "      <th>totalOperatingExpenses</th>\n",
       "      <th>costOfRevenue</th>\n",
       "      <th>totalOtherIncomeExpenseNet</th>\n",
       "      <th>discontinuedOperations</th>\n",
       "      <th>netIncomeFromContinuingOps</th>\n",
       "      <th>netIncomeApplicableToCommonShares</th>\n",
       "    </tr>\n",
       "    <tr>\n",
       "      <th>endDate</th>\n",
       "      <th></th>\n",
       "      <th></th>\n",
       "      <th></th>\n",
       "      <th></th>\n",
       "      <th></th>\n",
       "      <th></th>\n",
       "      <th></th>\n",
       "      <th></th>\n",
       "      <th></th>\n",
       "      <th></th>\n",
       "      <th></th>\n",
       "      <th></th>\n",
       "      <th></th>\n",
       "      <th></th>\n",
       "      <th></th>\n",
       "      <th></th>\n",
       "      <th></th>\n",
       "      <th></th>\n",
       "      <th></th>\n",
       "      <th></th>\n",
       "      <th></th>\n",
       "    </tr>\n",
       "  </thead>\n",
       "  <tbody>\n",
       "    <tr>\n",
       "      <th>2021-12-31</th>\n",
       "      <td>31562000000</td>\n",
       "      <td>None</td>\n",
       "      <td>90734000000</td>\n",
       "      <td>None</td>\n",
       "      <td>76033000000</td>\n",
       "      <td>36422000000</td>\n",
       "      <td>146698000000</td>\n",
       "      <td>78714000000</td>\n",
       "      <td>78714000000</td>\n",
       "      <td>None</td>\n",
       "      <td>...</td>\n",
       "      <td>None</td>\n",
       "      <td>None</td>\n",
       "      <td>14701000000</td>\n",
       "      <td>257637000000</td>\n",
       "      <td>178923000000</td>\n",
       "      <td>110939000000</td>\n",
       "      <td>12020000000</td>\n",
       "      <td>None</td>\n",
       "      <td>76033000000</td>\n",
       "      <td>76033000000</td>\n",
       "    </tr>\n",
       "    <tr>\n",
       "      <th>2020-12-31</th>\n",
       "      <td>27573000000</td>\n",
       "      <td>None</td>\n",
       "      <td>48082000000</td>\n",
       "      <td>None</td>\n",
       "      <td>40269000000</td>\n",
       "      <td>28998000000</td>\n",
       "      <td>97795000000</td>\n",
       "      <td>41224000000</td>\n",
       "      <td>41224000000</td>\n",
       "      <td>None</td>\n",
       "      <td>...</td>\n",
       "      <td>None</td>\n",
       "      <td>None</td>\n",
       "      <td>7813000000</td>\n",
       "      <td>182527000000</td>\n",
       "      <td>141303000000</td>\n",
       "      <td>84732000000</td>\n",
       "      <td>6858000000</td>\n",
       "      <td>None</td>\n",
       "      <td>40269000000</td>\n",
       "      <td>40269000000</td>\n",
       "    </tr>\n",
       "    <tr>\n",
       "      <th>2019-12-31</th>\n",
       "      <td>26018000000</td>\n",
       "      <td>None</td>\n",
       "      <td>39625000000</td>\n",
       "      <td>None</td>\n",
       "      <td>34343000000</td>\n",
       "      <td>28015000000</td>\n",
       "      <td>89961000000</td>\n",
       "      <td>35928000000</td>\n",
       "      <td>35928000000</td>\n",
       "      <td>None</td>\n",
       "      <td>...</td>\n",
       "      <td>None</td>\n",
       "      <td>None</td>\n",
       "      <td>5282000000</td>\n",
       "      <td>161857000000</td>\n",
       "      <td>125929000000</td>\n",
       "      <td>71896000000</td>\n",
       "      <td>3697000000</td>\n",
       "      <td>None</td>\n",
       "      <td>34343000000</td>\n",
       "      <td>34343000000</td>\n",
       "    </tr>\n",
       "    <tr>\n",
       "      <th>2018-12-31</th>\n",
       "      <td>21419000000</td>\n",
       "      <td>None</td>\n",
       "      <td>34913000000</td>\n",
       "      <td>None</td>\n",
       "      <td>30736000000</td>\n",
       "      <td>23256000000</td>\n",
       "      <td>77270000000</td>\n",
       "      <td>32595000000</td>\n",
       "      <td>32595000000</td>\n",
       "      <td>None</td>\n",
       "      <td>...</td>\n",
       "      <td>None</td>\n",
       "      <td>None</td>\n",
       "      <td>4177000000</td>\n",
       "      <td>136819000000</td>\n",
       "      <td>104224000000</td>\n",
       "      <td>59549000000</td>\n",
       "      <td>2318000000</td>\n",
       "      <td>None</td>\n",
       "      <td>30736000000</td>\n",
       "      <td>30736000000</td>\n",
       "    </tr>\n",
       "  </tbody>\n",
       "</table>\n",
       "<p>4 rows × 22 columns</p>\n",
       "</div>"
      ],
      "text/plain": [
       "Breakdown  researchDevelopment effectOfAccountingCharges incomeBeforeTax  \\\n",
       "endDate                                                                    \n",
       "2021-12-31         31562000000                      None     90734000000   \n",
       "2020-12-31         27573000000                      None     48082000000   \n",
       "2019-12-31         26018000000                      None     39625000000   \n",
       "2018-12-31         21419000000                      None     34913000000   \n",
       "\n",
       "Breakdown  minorityInterest    netIncome sellingGeneralAdministrative  \\\n",
       "endDate                                                                 \n",
       "2021-12-31             None  76033000000                  36422000000   \n",
       "2020-12-31             None  40269000000                  28998000000   \n",
       "2019-12-31             None  34343000000                  28015000000   \n",
       "2018-12-31             None  30736000000                  23256000000   \n",
       "\n",
       "Breakdown    grossProfit         ebit operatingIncome otherOperatingExpenses  \\\n",
       "endDate                                                                        \n",
       "2021-12-31  146698000000  78714000000     78714000000                   None   \n",
       "2020-12-31   97795000000  41224000000     41224000000                   None   \n",
       "2019-12-31   89961000000  35928000000     35928000000                   None   \n",
       "2018-12-31   77270000000  32595000000     32595000000                   None   \n",
       "\n",
       "Breakdown   ... nonRecurring otherItems incomeTaxExpense  totalRevenue  \\\n",
       "endDate     ...                                                          \n",
       "2021-12-31  ...         None       None      14701000000  257637000000   \n",
       "2020-12-31  ...         None       None       7813000000  182527000000   \n",
       "2019-12-31  ...         None       None       5282000000  161857000000   \n",
       "2018-12-31  ...         None       None       4177000000  136819000000   \n",
       "\n",
       "Breakdown  totalOperatingExpenses costOfRevenue totalOtherIncomeExpenseNet  \\\n",
       "endDate                                                                      \n",
       "2021-12-31           178923000000  110939000000                12020000000   \n",
       "2020-12-31           141303000000   84732000000                 6858000000   \n",
       "2019-12-31           125929000000   71896000000                 3697000000   \n",
       "2018-12-31           104224000000   59549000000                 2318000000   \n",
       "\n",
       "Breakdown  discontinuedOperations netIncomeFromContinuingOps  \\\n",
       "endDate                                                        \n",
       "2021-12-31                   None                76033000000   \n",
       "2020-12-31                   None                40269000000   \n",
       "2019-12-31                   None                34343000000   \n",
       "2018-12-31                   None                30736000000   \n",
       "\n",
       "Breakdown  netIncomeApplicableToCommonShares  \n",
       "endDate                                       \n",
       "2021-12-31                       76033000000  \n",
       "2020-12-31                       40269000000  \n",
       "2019-12-31                       34343000000  \n",
       "2018-12-31                       30736000000  \n",
       "\n",
       "[4 rows x 22 columns]"
      ]
     },
     "execution_count": 36,
     "metadata": {},
     "output_type": "execute_result"
    }
   ],
   "source": [
    "income_statement = si.get_income_statement(stock_name_list[0])\n",
    "income_statement = income_statement.transpose()\n",
    "income_statement"
   ]
  },
  {
   "cell_type": "code",
   "execution_count": 37,
   "id": "28317af8",
   "metadata": {},
   "outputs": [
    {
     "name": "stderr",
     "output_type": "stream",
     "text": [
      "/Users/lohithsowmiyan/miniforge3/envs/tensorflow/lib/python3.9/site-packages/seaborn/_decorators.py:36: FutureWarning: Pass the following variables as keyword args: x, y. From version 0.12, the only valid positional argument will be `data`, and passing other arguments without an explicit keyword will result in an error or misinterpretation.\n",
      "  warnings.warn(\n"
     ]
    },
    {
     "data": {
      "image/png": "[encoded data removed]",
      "text/plain": [
       "<Figure size 640x480 with 1 Axes>"
      ]
     },
     "metadata": {},
     "output_type": "display_data"
    }
   ],
   "source": [
    "sns.lineplot(income_statement.index,income_statement['grossProfit'])\n",
    "plt.show()"
   ]
  }
 ],
 "metadata": {
  "kernelspec": {
   "display_name": "Python 3",
   "language": "python",
   "name": "python3"
  },
  "language_info": {
   "codemirror_mode": {
    "name": "ipython",
    "version": 3
   },
   "file_extension": ".py",
   "mimetype": "text/x-python",
   "name": "python",
   "nbconvert_exporter": "python",
   "pygments_lexer": "ipython3",
   "version": "3.9.7"
  }
 },
 "nbformat": 4,
 "nbformat_minor": 5
}
